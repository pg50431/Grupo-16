{
 "cells": [
  {
   "cell_type": "markdown",
   "id": "ab6069d0-1743-4d99-b88c-fc627b56f869",
   "metadata": {},
   "source": [
    "Carregar módulos necessários:"
   ]
  },
  {
   "cell_type": "code",
   "execution_count": 27,
   "id": "156d6e91-9b39-474a-aedc-6a9a2748eb28",
   "metadata": {},
   "outputs": [],
   "source": [
    "from Bio import SeqIO"
   ]
  },
  {
   "cell_type": "markdown",
   "id": "a7a05ce6-d8af-46bd-a910-7937cad9f581",
   "metadata": {},
   "source": [
    "Leitura do gene PPARG no ficheiro genbank respetivo:"
   ]
  },
  {
   "cell_type": "code",
   "execution_count": 28,
   "id": "d39cfbf1-c963-43b8-b4d5-ff51c0a7efd8",
   "metadata": {},
   "outputs": [],
   "source": [
    "record = SeqIO.read(\"IGF2BP2.gb\", \"genbank\")"
   ]
  },
  {
   "cell_type": "markdown",
   "id": "ae2382e7-e0fc-45fd-acbf-4130ccfa460b",
   "metadata": {},
   "source": [
    "Informação global do gene:"
   ]
  },
  {
   "cell_type": "code",
   "execution_count": 29,
   "id": "be03ae9b-690f-40fb-9879-2f71992bd7ca",
   "metadata": {},
   "outputs": [
    {
     "name": "stdout",
     "output_type": "stream",
     "text": [
      "Seq: GTTCGTTGCAACAAATTGATGAGCAATGCTTTTTTATAATGCCAACTTTGTACAAAAAAGTTGGCATGAACAAGCTTTACATCGGGAACCTGAGCCCCGCCGTCACCGCCGACGACCTCCGGCAGCTCTTTGGGGACAGGAAGCTGCCCCTGGCGGGACAGGTCCTGCTGAAGTCCGGCTACGCCTTCGTGGACTACCCCGACCAGAACTGGGCCATCCGCGCCATCGAGACCCTCTCGGGTAAAGTGGAATTGCATGGGAAAATCATGGAAGTTGATTACTCAGTCTCTAAAAAGCTAAGGAGCAGGAAAATTCAGATTCGAAACATCCCTCCTCACCTGCAGTGGGAGGTGTTGGATGGACTTTTGGCTCAATATGGGACAGTGGAGAATGTGGAACAAGTCAACACAGACACAGAAACCGCCGTTGTCAACGTCACATATGCAACAAGAGAAGAAGCAAAAATAGCCATGGAGAAGCTAAGCGGGCATCAGTTTGAGAACTACTCCTTCAAGATTTCCTACATCCCGGATGAAGAGGTGAGCTCCCCTTCGCCCCCTCAGCGAGCCCAGCGTGGGGACCACTCTTCCCGGGAGCAAGGCCACGCCCCTGGGGGCACTTCTCAGGCCAGACAGATTGATTTCCCGCTGCGGATCCTGGTCCCCACCCAGTTTGTTGGTGCCATCATCGGAAAGGAGGGCTTGACCATAAAGAACATCACTAAGCAGACCCAGTCCCGGGTAGATATCCATAGAAAAGAGAACTCTGGAGCTGCAGAGAAGCCTGTCACCATCCATGCCACCCCAGAGGGGACTTCTGAAGCATGCCGCATGATTCTTGAAATCATGCAGAAAGAGGCAGATGAGACCAAACTAGCCGAAGAGATTCCTCTGAAAATCTTGGCACACAATGGCTTGGTTGGAAGACTGATTGGAAAAGAAGGCAGAAATTTGAAGAAAATTGAACATGAAACAGGGACCAAGATAACAATCTCATCTTTGCAGGATTTGAGCATATACAACCCGGAAAGAACCATCACTGTGAAGGGCACAGTTGAGGCCTGTGCCAGTGCTGAGATAGAGATTATGAAGAAGCTGCGTGAGGCCTTTGAAAATGATATGCTGGCTGTTAACCAACAAGCCAATCTGATCCCAGGGTTGAACCTCAGCGCACTTGGCATCTTTTCAACAGGACTGTCCGTGCTATCTCCACCAGCAGGGCCCCGCGGAGCTCCCCCCGCTGCCCCCTACCACCCCTTCACTACCCACTCCGGATACTTCTCCAGCCTGTACCCCCATCACCAGTTTGGCCCGTTCCCGCATCATCACTCTTATCCAGAGCAGGAGATTGTGAATCTCTTCATCCCAACCCAGGCTGTGGGCGCCATCATCGGGAAGAAGGGGGCACACATCAAACAGCTGGCGAGATTCGCCGGAGCCTCTATCAAGATTGCCCCTGCGGAAGGCCCAGACGTCAGCGAAAGGATGGTCATCATCACCGGGCCACCGGAAGCCCAGTTCAAGGCCCAGGGACGGATCTTTGGGAAACTGAAAGAGGAAAACTTCTTTAACCCCAAAGAAGAAGTGAAGCTGGAAGCGCATATCAGAGTGCCCTCTTCCACAGCTGGCCGGGTGATTGGCAAAGGTGGCAAGACCGTGAACGAACTGCAGAACTTAACCAGTGCAGAAGTCATCGTGCCTCGTGACCAAACGCCAGATGAAAATGAGGAAGTGATCGTCAGAATTATCGGGCACTTCTTTGCTAGCCAGACTGCACAGCGCAAGATCAGGGAAATTGTACAACAGGTGAAGCAGCAGGAGCAGAAATACCCTCAGGGAGTCGCCTCACAGCGCAGCAAGTGCCCAACTTTCTTGTACAAAGTTGGCATTATAAGAAAGCATTGCTTATCAATTTGTTGCAACGAAC\n",
      "ID: KJ900814.1\n",
      "Name: KJ900814\n",
      "Size: 1926\n",
      "Description: Synthetic construct Homo sapiens clone ccsbBroadEn_10208 IGF2BP2 gene, encodes complete protein\n"
     ]
    }
   ],
   "source": [
    "print('Seq:',record.seq)\n",
    "print('ID:',record.id)\n",
    "print('Name:',record.name)\n",
    "print('Size:',len(record.seq))\n",
    "print('Description:',record.description)"
   ]
  },
  {
   "cell_type": "markdown",
   "id": "44113711-992b-4503-b258-763b7a85ca2b",
   "metadata": {},
   "source": [
    "Anotações:"
   ]
  },
  {
   "cell_type": "code",
   "execution_count": 30,
   "id": "05dd6a3d-bc3f-4be0-bede-ec2eecb17002",
   "metadata": {},
   "outputs": [],
   "source": [
    "annotations=record.annotations"
   ]
  },
  {
   "cell_type": "code",
   "execution_count": 31,
   "id": "3fbfd8c0-6c31-448e-a831-9d6235944b2c",
   "metadata": {},
   "outputs": [
    {
     "name": "stdout",
     "output_type": "stream",
     "text": [
      "Acession Code: ['KJ900814']\n",
      "Moleculer type: DNA\n",
      "Topology: linear\n",
      "Organism: synthetic construct\n",
      "Taxonomy: ['other sequences', 'artificial sequences']\n",
      "Date: 19-MAR-2015\n",
      "Version: 1\n",
      "Keywords: ['ORFeome Collaboration', 'Gateway cloning system', 'full-length ORF without stop codon']\n",
      "Source: synthetic construct\n",
      "References: [Reference(title='A public genome-scale lentiviral expression library of human ORFs', ...), Reference(title='Direct Submission', ...)]\n",
      "Comments: This clone is distributed via members of the ORFeome Collaboration\n",
      "(http://www.orfeomecollaboration.org/), including the\n",
      "Dana-Farber/Harvard Cancer Center (DF/HCC) DNA Resource Core DNA\n",
      "Repository\n",
      "(http://www.dfhcc.harvard.edu/core-facilities/dnaresource/) and the\n",
      "DNASU Plasmid Repository at ASU Biodesign Institute\n",
      "(http://dnasu.asu.edu/DNASU/Home.jsp).  See also\n",
      "http://www.broadinstitute.org/rnai/public/ for additional\n",
      "information on this clone.\n"
     ]
    }
   ],
   "source": [
    "print('Acession Code:',record.annotations['accessions'])\n",
    "print('Moleculer type:',record.annotations['molecule_type'])\n",
    "print('Topology:',record.annotations['topology'])\n",
    "print('Organism:',record.annotations['organism'])\n",
    "print('Taxonomy:',record.annotations['taxonomy'])\n",
    "print('Date:',record.annotations['date'])\n",
    "print('Version:',record.annotations['sequence_version'])\n",
    "print('Keywords:',record.annotations['keywords'])\n",
    "print('Source:',record.annotations['source'])\n",
    "print('References:',record.annotations['references'])\n",
    "print('Comments:',record.annotations['comment'])"
   ]
  },
  {
   "cell_type": "markdown",
   "id": "a01ada71-bd65-42dd-9b2e-d0eb01b70541",
   "metadata": {},
   "source": [
    "Features:"
   ]
  },
  {
   "cell_type": "markdown",
   "id": "7a8b0731-c10d-4408-8351-9f6e55981f0d",
   "metadata": {},
   "source": [
    "Source"
   ]
  },
  {
   "cell_type": "code",
   "execution_count": 32,
   "id": "55358019-5caf-444e-bb68-dee30da8e706",
   "metadata": {},
   "outputs": [],
   "source": [
    "feat=record.features\n",
    "featsource = [ ]"
   ]
  },
  {
   "cell_type": "code",
   "execution_count": 33,
   "id": "7b644b65-b7a1-4490-adcf-fd679027bac4",
   "metadata": {},
   "outputs": [
    {
     "name": "stdout",
     "output_type": "stream",
     "text": [
      "Location: [0:1926](+)\n",
      "Location: [65:1860](+)\n"
     ]
    }
   ],
   "source": [
    "for i in range(len(feat)):\n",
    "    if feat[i].type == \"source\":\n",
    "        featsource.append(i)\n",
    "for k in featsource:\n",
    "    print ('Location:',feat[k].location)"
   ]
  },
  {
   "cell_type": "markdown",
   "id": "c2d2dd3f-55b8-407a-b1ca-ca6e26b26a3d",
   "metadata": {},
   "source": [
    "Qualifiers:"
   ]
  },
  {
   "cell_type": "code",
   "execution_count": 34,
   "id": "00a2af0a-65cc-4ee1-9712-2fa8ea82bf9a",
   "metadata": {},
   "outputs": [
    {
     "name": "stdout",
     "output_type": "stream",
     "text": [
      "Organism: ['synthetic construct']\n",
      "Molecular Type: ['other DNA']\n",
      "Taxonomy: ['taxon:32630']\n",
      "Organism: ['Homo sapiens']\n",
      "Molecular Type: ['other DNA']\n",
      "Taxonomy: ['taxon:9606']\n"
     ]
    }
   ],
   "source": [
    "for k in featsource:\n",
    "    print('Organism:',feat[k].qualifiers['organism'])\n",
    "    print('Molecular Type:',feat[k].qualifiers['mol_type'])\n",
    "    print('Taxonomy:',feat[k].qualifiers['db_xref'])"
   ]
  },
  {
   "cell_type": "markdown",
   "id": "b4499cef-780e-41e7-9775-abb25e9f179c",
   "metadata": {},
   "source": [
    "CDS"
   ]
  },
  {
   "cell_type": "code",
   "execution_count": 35,
   "id": "95579bd8-1fb4-4e47-86a5-6d5e47d022ef",
   "metadata": {},
   "outputs": [],
   "source": [
    "featcds = [ ]"
   ]
  },
  {
   "cell_type": "code",
   "execution_count": 36,
   "id": "8f231f4d-14f3-4c9c-a37e-4dcaf109820c",
   "metadata": {},
   "outputs": [
    {
     "name": "stdout",
     "output_type": "stream",
     "text": [
      "Location: [65:>1860](+)\n"
     ]
    }
   ],
   "source": [
    "for i in range(len(feat)):\n",
    "    if feat[i].type == \"CDS\":\n",
    "        featcds.append(i)\n",
    "for k in featcds:\n",
    "    print ('Location:',feat[k].location)"
   ]
  },
  {
   "cell_type": "markdown",
   "id": "11396e1b-8a2a-4e8a-a0b4-5946fd324c0a",
   "metadata": {},
   "source": [
    "Qualifiers:"
   ]
  },
  {
   "cell_type": "code",
   "execution_count": 37,
   "id": "5ddb3e1f-b553-490a-9ca8-ccd7f463d77e",
   "metadata": {},
   "outputs": [
    {
     "name": "stdout",
     "output_type": "stream",
     "text": [
      "Start codons: ['1']\n",
      "Stop codons: ['missing stop codon']\n",
      "Protein ID: ['AIC58343.1']\n",
      "Product: ['IGF2BP2']\n",
      "Translation: ['MNKLYIGNLSPAVTADDLRQLFGDRKLPLAGQVLLKSGYAFVDYPDQNWAIRAIETLSGKVELHGKIMEVDYSVSKKLRSRKIQIRNIPPHLQWEVLDGLLAQYGTVENVEQVNTDTETAVVNVTYATREEAKIAMEKLSGHQFENYSFKISYIPDEEVSSPSPPQRAQRGDHSSREQGHAPGGTSQARQIDFPLRILVPTQFVGAIIGKEGLTIKNITKQTQSRVDIHRKENSGAAEKPVTIHATPEGTSEACRMILEIMQKEADETKLAEEIPLKILAHNGLVGRLIGKEGRNLKKIEHETGTKITISSLQDLSIYNPERTITVKGTVEACASAEIEIMKKLREAFENDMLAVNQQANLIPGLNLSALGIFSTGLSVLSPPAGPRGAPPAAPYHPFTTHSGYFSSLYPHHQFGPFPHHHSYPEQEIVNLFIPTQAVGAIIGKKGAHIKQLARFAGASIKIAPAEGPDVSERMVIITGPPEAQFKAQGRIFGKLKEENFFNPKEEVKLEAHIRVPSSTAGRVIGKGGKTVNELQNLTSAEVIVPRDQTPDENEEVIVRIIGHFFASQTAQRKIREIVQQVKQQEQKYPQGVASQRSK']\n"
     ]
    }
   ],
   "source": [
    "for k in featcds:\n",
    "    print('Start codons:',feat[k].qualifiers['codon_start'])\n",
    "    print('Stop codons:', feat[k].qualifiers['note'])\n",
    "    print('Protein ID:',feat[k].qualifiers['protein_id'])\n",
    "    print('Product:',feat[k].qualifiers['product'])\n",
    "    print('Translation:',feat[k].qualifiers['translation'])"
   ]
  },
  {
   "cell_type": "code",
   "execution_count": null,
   "id": "439477ea-8ecf-4bb6-a09b-2e6ee7f64da5",
   "metadata": {},
   "outputs": [],
   "source": []
  },
  {
   "cell_type": "code",
   "execution_count": null,
   "id": "7dd7e908-ea3b-4071-bb4e-1bfa9d6854e4",
   "metadata": {},
   "outputs": [],
   "source": []
  }
 ],
 "metadata": {
  "kernelspec": {
   "display_name": "Python 3 (ipykernel)",
   "language": "python",
   "name": "python3"
  },
  "language_info": {
   "codemirror_mode": {
    "name": "ipython",
    "version": 3
   },
   "file_extension": ".py",
   "mimetype": "text/x-python",
   "name": "python",
   "nbconvert_exporter": "python",
   "pygments_lexer": "ipython3",
   "version": "3.9.7"
  }
 },
 "nbformat": 4,
 "nbformat_minor": 5
}
