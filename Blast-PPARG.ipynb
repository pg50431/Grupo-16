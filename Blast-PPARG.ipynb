{
 "cells": [
  {
   "cell_type": "code",
   "execution_count": 1,
   "id": "697fe480",
   "metadata": {},
   "outputs": [],
   "source": [
    "from Bio.Blast import NCBIXML \n",
    "from Bio.Blast import NCBIWWW \n",
    "from Bio import SeqIO"
   ]
  },
  {
   "cell_type": "code",
   "execution_count": 2,
   "id": "74f8e2d8",
   "metadata": {},
   "outputs": [],
   "source": [
    "seqrecord = SeqIO.read(open(\"PPARG.fasta\"), format=\"fasta\")"
   ]
  },
  {
   "cell_type": "code",
   "execution_count": 3,
   "id": "8e5084fd",
   "metadata": {},
   "outputs": [],
   "source": [
    "result_handle = NCBIWWW.qblast(\"blastp\", \"nr\", seqrecord.format(\"fasta\"))"
   ]
  },
  {
   "cell_type": "code",
   "execution_count": 4,
   "id": "94aba211",
   "metadata": {},
   "outputs": [],
   "source": [
    "file_save = open(\"my_blast_PPARG.xml\", \"w\")\n",
    "file_save.write(result_handle.read()) \n",
    "file_save.close() \n",
    "result_handle.close()"
   ]
  },
  {
   "cell_type": "code",
   "execution_count": 5,
   "id": "b8e7b645",
   "metadata": {},
   "outputs": [],
   "source": [
    "result_handle = open(\"my_blast_PPARG.xml\")\n",
    "record =  NCBIXML.read(result_handle)"
   ]
  },
  {
   "cell_type": "code",
   "execution_count": 6,
   "id": "38a70cb6",
   "metadata": {},
   "outputs": [
    {
     "name": "stdout",
     "output_type": "stream",
     "text": [
      "Parâmetros\n",
      "Database:  nr\n",
      "Matrix:  BLOSUM62\n",
      "Gap penalties:  (11, 1)\n"
     ]
    }
   ],
   "source": [
    "print(\"Parâmetros\")\n",
    "print(\"Database: \" , record.database)\n",
    "print(\"Matrix: \", record.matrix)\n",
    "print(\"Gap penalties: \", record.gap_penalties)"
   ]
  },
  {
   "cell_type": "code",
   "execution_count": 7,
   "id": "73ead1f2",
   "metadata": {},
   "outputs": [
    {
     "name": "stdout",
     "output_type": "stream",
     "text": [
      "number hits:  50\n"
     ]
    }
   ],
   "source": [
    "nhits = len(record.alignments) \n",
    "print (\"number hits: \", nhits)"
   ]
  },
  {
   "cell_type": "code",
   "execution_count": 8,
   "id": "fb841141",
   "metadata": {},
   "outputs": [
    {
     "name": "stdout",
     "output_type": "stream",
     "text": [
      "E-values and length of alignments:\n",
      "XP_046281401 - 0.0 length:475\n",
      "XP_046281400 - 0.0 length:475\n",
      "XP_005333849 - 0.0 length:475\n",
      "XP_013217630 - 0.0 length:475\n",
      "XP_048643087 - 0.0 length:475\n",
      "VTJ63730 - 0.0 length:475\n",
      "VTJ63729 - 0.0 length:475\n",
      "MBZ3876204 - 0.0 length:475\n",
      "XP_047390974 - 0.0 length:475\n",
      "XP_017511337 - 0.0 length:475\n",
      "KAI5937198 - 0.0 length:475\n",
      "KAI5174175 - 0.0 length:475\n",
      "XP_041616738 - 0.0 length:475\n",
      "XP_017511339 - 0.0 length:475\n",
      "XP_025305309 - 0.0 length:475\n",
      "XP_036767282 - 0.0 length:475\n",
      "XP_034514682 - 0.0 length:475\n",
      "XP_026357172 - 0.0 length:475\n",
      "XP_007952302 - 0.0 length:475\n",
      "NP_001019803 - 0.0 length:475\n",
      "XP_008696091 - 0.0 length:475\n",
      "XP_039087239 - 0.0 length:475\n",
      "XP_021550891 - 0.0 length:475\n",
      "XP_003265037 - 0.0 length:475\n",
      "EFB23191 - 0.0 length:475\n",
      "XP_034853590 - 0.0 length:475\n",
      "XP_011807711 - 0.0 length:475\n",
      "KAF0870492 - 0.0 length:475\n",
      "XP_024099732 - 0.0 length:475\n",
      "XP_011807710 - 0.0 length:475\n",
      "XP_004738605 - 0.0 length:475\n",
      "XP_032183535 - 0.0 length:475\n",
      "XP_032268120 - 0.0 length:475\n",
      "XP_039087240 - 0.0 length:475\n",
      "VCX09268 - 0.0 length:475\n",
      "XP_010375595 - 0.0 length:475\n",
      "XP_025305310 - 0.0 length:475\n",
      "XP_039087241 - 0.0 length:475\n",
      "XP_011225831 - 0.0 length:475\n",
      "XP_019588247 - 0.0 length:475\n",
      "NP_001124655 - 0.0 length:475\n",
      "XP_018880300 - 0.0 length:475\n",
      "XP_047600393 - 0.0 length:475\n",
      "XP_008059613 - 0.0 length:475\n",
      "XP_033066600 - 0.0 length:475\n",
      "XP_022353809 - 0.0 length:475\n",
      "XP_008949962 - 0.0 length:475\n",
      "XP_044241011 - 0.0 length:475\n",
      "XP_030865580 - 0.0 length:475\n",
      "NP_001028032 - 0.0 length:475\n"
     ]
    }
   ],
   "source": [
    "res = []\n",
    "for alignment in record.alignments:\n",
    "    evalue = alignment.hsps[0].expect\n",
    "    accession = alignment.accession\n",
    "    leng = alignment.hsps[0].align_length\n",
    "    res.append(accession + \" - \" + str(evalue) + \" length:\" + str(leng) )\n",
    "\n",
    "print(\"E-values and length of alignments:\")\n",
    "for s in res: print(s)"
   ]
  },
  {
   "cell_type": "code",
   "execution_count": 9,
   "id": "fda0b8ab",
   "metadata": {},
   "outputs": [
    {
     "name": "stdout",
     "output_type": "stream",
     "text": [
      "Accession: XP_046281401\n",
      "Hit id: ref|XP_046281401.1|\n",
      "Definition: peroxisome proliferator-activated receptor gamma isoform X2 [Marmota monax] >ref|XP_046281402.1| peroxisome proliferator-activated receptor gamma isoform X2 [Marmota monax] >gb|KAI6054630.1| PPARG [Marmota monax] >gb|KAI6066931.1| PPARG [Marmota monax]\n",
      "Number of HSPs:  1\n",
      "E-value:  0.0\n",
      "Length:  475\n",
      "Identities:  475\n",
      "Query start:  1\n",
      "Sbjct start:  1\n",
      "MVDTEMPFWPTNFGISSMDLSMMDDHSRSFDIKPFTTVDFSSISTPHYEDIPFTRADPMMPDYKYDLKLQDYQSAIKVEPASPPYYSEKT\n",
      "MVDTEMPFWPTNFGISSMDLSMMDDHSRSFDIKPFTTVDFSSISTPHYEDIPFTRADPMMPDYKYDLKLQDYQSAIKVEPASPPYYSEKT\n",
      "MVDTEMPFWPTNFGISSMDLSMMDDHSRSFDIKPFTTVDFSSISTPHYEDIPFTRADPMMPDYKYDLKLQDYQSAIKVEPASPPYYSEKT\n",
      "\n"
     ]
    }
   ],
   "source": [
    "result_handle2 = open(\"my_blast_PPARG.xml\")\n",
    "record2 = NCBIXML.read(result_handle2)\n",
    "\n",
    "first_alignment = record2.alignments[0]\n",
    "\n",
    "print (\"Accession: \" + first_alignment.accession)\n",
    "print (\"Hit id: \" + first_alignment.hit_id)\n",
    "print (\"Definition: \" + first_alignment.hit_def)\n",
    "\n",
    "print (\"Number of HSPs: \", len(first_alignment.hsps))\n",
    "\n",
    "for hsp in first_alignment.hsps:\n",
    "    print (\"E-value: \", hsp.expect)\n",
    "    print (\"Length: \", hsp.align_length)\n",
    "    print (\"Identities: \", hsp.identities)\n",
    "    print (\"Query start: \", hsp.query_start)\n",
    "    print (\"Sbjct start: \", hsp.sbjct_start)\n",
    "    print (hsp.query[0:90])\n",
    "    print (hsp.match[0:90])\n",
    "    print (hsp.sbjct[0:90])\n",
    "    print (\"\")"
   ]
  }
 ],
 "metadata": {
  "kernelspec": {
   "display_name": "Python 3 (ipykernel)",
   "language": "python",
   "name": "python3"
  },
  "language_info": {
   "codemirror_mode": {
    "name": "ipython",
    "version": 3
   },
   "file_extension": ".py",
   "mimetype": "text/x-python",
   "name": "python",
   "nbconvert_exporter": "python",
   "pygments_lexer": "ipython3",
   "version": "3.9.12"
  }
 },
 "nbformat": 4,
 "nbformat_minor": 5
}
