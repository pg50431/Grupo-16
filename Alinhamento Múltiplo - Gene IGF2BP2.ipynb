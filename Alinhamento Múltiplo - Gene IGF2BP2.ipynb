{
 "cells": [
  {
   "cell_type": "markdown",
   "metadata": {},
   "source": [
    "# Alinhamento Múltiplo - Gene IGF2BP2"
   ]
  },
  {
   "cell_type": "markdown",
   "metadata": {},
   "source": [
    "GRUPO 16: Catarina Oliveira (PG50290), Inês Cabral (PG50431), Joana Fernandes (PG50459), Maria Pimenta (PG50616)"
   ]
  },
  {
   "cell_type": "markdown",
   "metadata": {},
   "source": [
    "Importar os dados necessários \n",
    "\n",
    "NOTA: o ficheiro da sequência nucleotidica PPARG tem que ser guardado em formato fasta, para que as sequências homológas obtidas entrem na construção das árvores filogenéticas."
   ]
  },
  {
   "cell_type": "code",
   "execution_count": 25,
   "metadata": {},
   "outputs": [],
   "source": [
    "from Bio.Blast import NCBIXML\n",
    "from Bio.Blast import NCBIWWW\n",
    "from Bio import SeqIO\n",
    "from Bio import Entrez\n",
    "\n",
    "seqrecord=SeqIO.read(open(\"IGF2BP2.fasta\"),format=\"fasta\")"
   ]
  },
  {
   "cell_type": "markdown",
   "metadata": {},
   "source": [
    "Realizar a pesquisa remota no BLAST, que utiliza a base de dados nt, e, através do módulo Bio.NCBIWWW, aceder à versão WWW do blast forncida pelo NCBI."
   ]
  },
  {
   "cell_type": "code",
   "execution_count": 26,
   "metadata": {},
   "outputs": [],
   "source": [
    "result_handle=NCBIWWW.qblast(\"blastp\", \"swissprot\", seqrecord.format(\"fasta\"))"
   ]
  },
  {
   "cell_type": "markdown",
   "metadata": {},
   "source": [
    "Guardar os resultados obtidos num ficheiro xml para serem analisados, sendo necessário recorrer ao módulo Bio.NCBIXML."
   ]
  },
  {
   "cell_type": "code",
   "execution_count": 27,
   "metadata": {},
   "outputs": [],
   "source": [
    "save_file=open(\"blast-IGF2BP2.xml\", \"w\")\n",
    "save_file.write(result_handle.read())\n",
    "save_file.close()\n",
    "result_handle.close()"
   ]
  },
  {
   "cell_type": "code",
   "execution_count": 28,
   "metadata": {},
   "outputs": [],
   "source": [
    "result_handle=open(\"blast-IGF2BP2.xml\")\n",
    "record=NCBIXML.read(result_handle)"
   ]
  },
  {
   "cell_type": "markdown",
   "metadata": {},
   "source": [
    "Dar os parâmetros globais da pesquisa realizada no BLAST."
   ]
  },
  {
   "cell_type": "code",
   "execution_count": 32,
   "metadata": {},
   "outputs": [
    {
     "name": "stdout",
     "output_type": "stream",
     "text": [
      "A base de dados utilizada foi swissprot\n",
      "A matriz de substituição utilizada no alinhamento foi BLOSUM62\n",
      "Os parâmetros de espaçamento do alinhamento são (11, 1)\n"
     ]
    }
   ],
   "source": [
    "print(\"A base de dados utilizada foi\", record.database)\n",
    "print(\"A matriz de substituição utilizada no alinhamento foi\", record.matrix)\n",
    "print(\"Os parâmetros de espaçamento do alinhamento são\", record.gap_penalties)"
   ]
  },
  {
   "cell_type": "markdown",
   "metadata": {},
   "source": [
    "Determinar o número de sequências homólogas da sequência nucleotídica em questão encontradas pelo BLAST, ou seja, o número de alinhamentos retornados (número de hits)."
   ]
  },
  {
   "cell_type": "code",
   "execution_count": 30,
   "metadata": {},
   "outputs": [
    {
     "name": "stdout",
     "output_type": "stream",
     "text": [
      "número de alinhamentos: 50\n"
     ]
    }
   ],
   "source": [
    "nhits=len(record.alignments)\n",
    "print(\"número de alinhamentos:\", nhits)"
   ]
  },
  {
   "cell_type": "markdown",
   "metadata": {},
   "source": [
    "Identificar a lista de acession numbers, os e-values, os comprimentos dos alinhamentos e a identificação das sequências homólogas dos alinhamentos obtidos na pesquisa. \n",
    "\n",
    "    > acession number - identificador único que é dado a uma sequência de um polímero biológico (DNA, RNA, proteína) quando as sequências (nucleotídicas ou de aminoácidos) são subtmetidas a um banco de dados. \n",
    "    > e-value - parâmetro que demonstra a probabilidade do alinhamento ter sido realizado ao acaso. Quanto mais próximo de zero for o valor, mais confiável é a correspondência dos alinhamentos retornados. Para alinhamentos mais curtos o e-value pode ser relativamente alto, dado que ele tem em consideração o tamanho da sequência inicial (query), e como tal sequências mais curtas têm maior probabilidade de ocorrer ao acaso numa base de dados."
   ]
  },
  {
   "cell_type": "code",
   "execution_count": 33,
   "metadata": {},
   "outputs": [
    {
     "name": "stdout",
     "output_type": "stream",
     "text": [
      "Os e-values e comprimento dos alinhamentos obtidos para cada sequência são\n",
      " \n",
      "Q9Y6M1 >  e-value:0.0 e comprimento:599\n",
      "sequência:sp|Q9Y6M1.2| RecName: Full=Insulin-like growth factor 2 mRNA-binding protein 2; Short=IGF2 mRNA-binding protein 2; Short=IMP-2; AltName: Full=Hepatocellular carcinoma autoantigen p62; AltName: Full=IGF-II mRNA-binding protein 2; AltName: Full=VICKZ family member 2 [Homo sapiens]\n",
      "Q5SF07 >  e-value:0.0 e comprimento:599\n",
      "sequência:sp|Q5SF07.1| RecName: Full=Insulin-like growth factor 2 mRNA-binding protein 2; Short=IGF2 mRNA-binding protein 2; Short=IMP-2; AltName: Full=IGF-II mRNA-binding protein 2; AltName: Full=VICKZ family member 2 [Mus musculus]\n",
      "Q5RB68 >  e-value:0.0 e comprimento:599\n",
      "sequência:sp|Q5RB68.1| RecName: Full=Insulin-like growth factor 2 mRNA-binding protein 2; Short=IGF2 mRNA-binding protein 2; Short=IMP-2; AltName: Full=IGF-II mRNA-binding protein 2; AltName: Full=VICKZ family member 2 [Pongo abelii]\n",
      "O42254 >  e-value:0.0 e comprimento:601\n",
      "sequência:sp|O42254.1| RecName: Full=Insulin-like growth factor 2 mRNA-binding protein 1; Short=IGF2 mRNA-binding protein 1; Short=IMP-1; AltName: Full=IGF-II mRNA-binding protein 1; AltName: Full=VICKZ family member 1; AltName: Full=Zip-code binding polypeptide; AltName: Full=Zipcode-binding protein 1; Short=ZBP-1 [Gallus gallus]\n",
      "Q08CK7 >  e-value:0.0 e comprimento:608\n",
      "sequência:sp|Q08CK7.1| RecName: Full=Insulin-like growth factor 2 mRNA-binding protein 1; Short=IGF2 mRNA-binding protein 1; Short=IMP-1; AltName: Full=IGF-II mRNA-binding protein 1; AltName: Full=VICKZ family member 1 [Danio rerio]\n",
      "Q9NZI8 >  e-value:0.0 e comprimento:601\n",
      "sequência:sp|Q9NZI8.2| RecName: Full=Insulin-like growth factor 2 mRNA-binding protein 1; Short=IGF2 mRNA-binding protein 1; Short=IMP-1; Short=IMP1; AltName: Full=Coding region determinant-binding protein; Short=CRD-BP; AltName: Full=IGF-II mRNA-binding protein 1; AltName: Full=VICKZ family member 1; AltName: Full=Zipcode-binding protein 1; Short=ZBP-1 [Homo sapiens]\n",
      "Q8CGX0 >  e-value:0.0 e comprimento:601\n",
      "sequência:sp|Q8CGX0.1| RecName: Full=Insulin-like growth factor 2 mRNA-binding protein 1; Short=IGF2 mRNA-binding protein 1; Short=IMP-1; AltName: Full=B-actin zipcode-binding protein 1; Short=ZBP1; Short=rZBP-1; AltName: Full=IGF-II mRNA-binding protein 1; AltName: Full=VICKZ family member 1 [Rattus norvegicus]\n",
      "O57526 >  e-value:0.0 e comprimento:592\n",
      "sequência:sp|O57526.1| RecName: Full=Insulin-like growth factor 2 mRNA-binding protein 3-B; Short=IGF2 mRNA-binding protein 3-B; Short=IMP-3-B; AltName: Full=69 kDa RNA-binding protein B; AltName: Full=B3.65 protein B; AltName: Full=IGF-II mRNA-binding protein 3-B; AltName: Full=KH domain-containing transcription factor B3-B; AltName: Full=RNA-binding protein Vera-B; AltName: Full=Trans-acting factor B3-B; AltName: Full=VICKZ family member 3-B; AltName: Full=VLE-binding protein B; AltName: Full=Vg1 RNA-binding protein B; Short=Vg1 RBP-B; AltName: Full=Vg1 localization element binding protein B; AltName: Full=VgLE-binding and ER association protein B [Xenopus laevis]\n",
      "O88477 >  e-value:0.0 e comprimento:601\n",
      "sequência:sp|O88477.1| RecName: Full=Insulin-like growth factor 2 mRNA-binding protein 1; Short=IGF2 mRNA-binding protein 1; Short=IMP-1; AltName: Full=Coding region determinant-binding protein; Short=CRD-BP; AltName: Full=IGF-II mRNA-binding protein 1; AltName: Full=VICKZ family member 1; AltName: Full=Zipcode-binding protein 1; Short=ZBP-1 [Mus musculus]\n",
      "Q9PW80 >  e-value:0.0 e comprimento:591\n",
      "sequência:sp|Q9PW80.1| RecName: Full=Insulin-like growth factor 2 mRNA-binding protein 3; Short=IGF2 mRNA-binding protein 3; Short=IMP-3; AltName: Full=Decapentaplegic and Vg-related 1 RNA-binding protein; AltName: Full=IGF-II mRNA-binding protein 3; AltName: Full=VICKZ family member 3; AltName: Full=Vg1 RNA-binding protein; Short=Vg1-RBP [Danio rerio]\n",
      "Q5ZLP8 >  e-value:0.0 e comprimento:582\n",
      "sequência:sp|Q5ZLP8.1| RecName: Full=Insulin-like growth factor 2 mRNA-binding protein 3; Short=IGF2 mRNA-binding protein 3; Short=IMP-3; AltName: Full=IGF-II mRNA-binding protein 3; AltName: Full=VICKZ family member 3 [Gallus gallus]\n",
      "O73932 >  e-value:0.0 e comprimento:592\n",
      "sequência:sp|O73932.1| RecName: Full=Insulin-like growth factor 2 mRNA-binding protein 3-A; Short=IGF2 mRNA-binding protein 3-A; Short=IMP-3-A; AltName: Full=69 kDa RNA-binding protein A; AltName: Full=IGF-II mRNA-binding protein 3-A; AltName: Full=KH domain-containing transcription factor B3-A; AltName: Full=RNA-binding protein Vera-A; AltName: Full=Trans-acting factor B3-A; AltName: Full=VICKZ family member 3-A; AltName: Full=VLE-binding protein A; AltName: Full=Vg1 RNA-binding protein A; Short=Vg1 RBP-A; AltName: Full=Vg1 localization element binding protein A; AltName: Full=VgLE-binding and ER association protein A [Xenopus laevis]\n",
      "O00425 >  e-value:0.0 e comprimento:591\n",
      "sequência:sp|O00425.2| RecName: Full=Insulin-like growth factor 2 mRNA-binding protein 3; Short=IGF2 mRNA-binding protein 3; Short=IMP-3; AltName: Full=IGF-II mRNA-binding protein 3; AltName: Full=KH domain-containing protein overexpressed in cancer; Short=hKOC; AltName: Full=VICKZ family member 3 [Homo sapiens]\n",
      "Q9CPN8 >  e-value:0.0 e comprimento:592\n",
      "sequência:sp|Q9CPN8.1| RecName: Full=Insulin-like growth factor 2 mRNA-binding protein 3; Short=IGF2 mRNA-binding protein 3; Short=IMP-3; Short=mIMP-3; AltName: Full=IGF-II mRNA-binding protein 3; AltName: Full=VICKZ family member 3 [Mus musculus]\n",
      "O74919 >  e-value:1.07573e-17 e comprimento:319\n",
      "sequência:sp|O74919.1| RecName: Full=RNA-binding protein rnc1; AltName: Full=RNA-binding protein that suppresses calcineurin deletion 1 [Schizosaccharomyces pombe 972h-]\n",
      "P58223 >  e-value:8.93792e-14 e comprimento:309\n",
      "sequência:sp|P58223.1| RecName: Full=KH domain-containing protein At4g18375 [Arabidopsis thaliana]\n",
      "O19048 >  e-value:1.2519e-13 e comprimento:168\n",
      "sequência:sp|O19048.1| RecName: Full=Poly(rC)-binding protein 1; AltName: Full=Alpha-CP1; AltName: Full=Heterogeneous nuclear ribonucleoprotein E1; Short=hnRNP E1 [Oryctolagus cuniculus] >sp|P60335.1| RecName: Full=Poly(rC)-binding protein 1; AltName: Full=Alpha-CP1; AltName: Full=Heterogeneous nuclear ribonucleoprotein E1; Short=hnRNP E1 [Mus musculus] >sp|Q15365.2| RecName: Full=Poly(rC)-binding protein 1; AltName: Full=Alpha-CP1; AltName: Full=Heterogeneous nuclear ribonucleoprotein E1; Short=hnRNP E1; AltName: Full=Nucleic acid-binding protein SUB2.3 [Homo sapiens] >sp|Q5E9A3.1| RecName: Full=Poly(rC)-binding protein 1; AltName: Full=Alpha-CP1 [Bos taurus]\n",
      "P57722 >  e-value:4.69525e-13 e comprimento:171\n",
      "sequência:sp|P57722.3| RecName: Full=Poly(rC)-binding protein 3; AltName: Full=Alpha-CP3 [Mus musculus]\n",
      "P57721 >  e-value:5.99134e-13 e comprimento:338\n",
      "sequência:sp|P57721.2| RecName: Full=Poly(rC)-binding protein 3; AltName: Full=Alpha-CP3; AltName: Full=PCBP3-overlapping transcript; AltName: Full=PCBP3-overlapping transcript 1 [Homo sapiens]\n",
      "Q61990 >  e-value:1.12505e-12 e comprimento:134\n",
      "sequência:sp|Q61990.1| RecName: Full=Poly(rC)-binding protein 2; AltName: Full=Alpha-CP2; AltName: Full=CTBP; Short=CBP; AltName: Full=Putative heterogeneous nuclear ribonucleoprotein X; Short=hnRNP X [Mus musculus]\n",
      "Q15366 >  e-value:1.16052e-12 e comprimento:134\n",
      "sequência:sp|Q15366.1| RecName: Full=Poly(rC)-binding protein 2; AltName: Full=Alpha-CP2; AltName: Full=Heterogeneous nuclear ribonucleoprotein E2; Short=hnRNP E2 [Homo sapiens]\n",
      "Q96I24 >  e-value:4.02308e-12 e comprimento:179\n",
      "sequência:sp|Q96I24.2| RecName: Full=Far upstream element-binding protein 3; Short=FUSE-binding protein 3 [Homo sapiens]\n",
      "P38151 >  e-value:5.12722e-12 e comprimento:333\n",
      "sequência:sp|P38151.1| RecName: Full=PAB1-binding protein 2 [Saccharomyces cerevisiae S288C]\n",
      "Q8UVD9 >  e-value:9.48835e-12 e comprimento:230\n",
      "sequência:sp|Q8UVD9.1| RecName: Full=Far upstream element-binding protein 2; Short=FUSE-binding protein 2; AltName: Full=KH type-splicing regulatory protein; Short=KSRP; AltName: Full=Zipcode-binding protein 2 [Gallus gallus]\n",
      "P57724 >  e-value:2.12393e-11 e comprimento:316\n",
      "sequência:sp|P57724.1| RecName: Full=Poly(rC)-binding protein 4; AltName: Full=Alpha-CP4 [Mus musculus]\n",
      "Q0VCU0 >  e-value:2.56057e-11 e comprimento:341\n",
      "sequência:sp|Q0VCU0.1| RecName: Full=Poly(rC)-binding protein 4; AltName: Full=Alpha-CP4 [Bos taurus]\n",
      "Q3U0V1 >  e-value:3.35768e-11 e comprimento:181\n",
      "sequência:sp|Q3U0V1.2| RecName: Full=Far upstream element-binding protein 2; Short=FUSE-binding protein 2; AltName: Full=KH type-splicing regulatory protein; Short=KSRP [Mus musculus]\n",
      "Q99PF5 >  e-value:4.00836e-11 e comprimento:181\n",
      "sequência:sp|Q99PF5.1| RecName: Full=Far upstream element-binding protein 2; Short=FUSE-binding protein 2; AltName: Full=KH type-splicing regulatory protein; Short=KSRP; AltName: Full=MAP2 RNA trans-acting protein 1; Short=MARTA1 [Rattus norvegicus]\n",
      "Q92945 >  e-value:4.04346e-11 e comprimento:181\n",
      "sequência:sp|Q92945.4| RecName: Full=Far upstream element-binding protein 2; Short=FUSE-binding protein 2; AltName: Full=KH type-splicing regulatory protein; Short=KSRP; AltName: Full=p75 [Homo sapiens]\n",
      "P57723 >  e-value:6.75194e-11 e comprimento:319\n",
      "sequência:sp|P57723.1| RecName: Full=Poly(rC)-binding protein 4; AltName: Full=Alpha-CP4 [Homo sapiens]\n",
      "Q9LZ82 >  e-value:1.0273e-10 e comprimento:319\n",
      "sequência:sp|Q9LZ82.1| RecName: Full=Protein BTR1; AltName: Full=Binding to ToMV RNA 1 [Arabidopsis thaliana]\n",
      "Q91WJ8 >  e-value:1.21799e-10 e comprimento:152\n",
      "sequência:sp|Q91WJ8.1| RecName: Full=Far upstream element-binding protein 1; Short=FBP; Short=FUSE-binding protein 1 [Mus musculus]\n",
      "Q32PX7 >  e-value:1.35737e-10 e comprimento:152\n",
      "sequência:sp|Q32PX7.1| RecName: Full=Far upstream element-binding protein 1; Short=FBP; Short=FUSE-binding protein 1 [Rattus norvegicus]\n",
      "Q96AE4 >  e-value:1.63731e-10 e comprimento:152\n",
      "sequência:sp|Q96AE4.3| RecName: Full=Far upstream element-binding protein 1; Short=FBP; Short=FUSE-binding protein 1; AltName: Full=DNA helicase V; Short=hDH V [Homo sapiens]\n",
      "Q80WA4 >  e-value:7.2279e-10 e comprimento:179\n",
      "sequência:sp|Q80WA4.1| RecName: Full=RNA-binding protein Nova-1; AltName: Full=Neuro-oncological ventral antigen 1 [Rattus norvegicus]\n",
      "Q2PFW9 >  e-value:8.12839e-10 e comprimento:179\n",
      "sequência:sp|Q2PFW9.1| RecName: Full=RNA-binding protein Nova-1; AltName: Full=Neuro-oncological ventral antigen 1; AltName: Full=Ventral neuron-specific protein 1 [Macaca fascicularis]\n",
      "A0A0B4KGY6 >  e-value:8.30837e-10 e comprimento:171\n",
      "sequência:sp|A0A0B4KGY6.1| RecName: Full=RNA-binding protein Pasilla [Drosophila melanogaster]\n",
      "A0A1W2P872 >  e-value:2.02181e-09 e comprimento:175\n",
      "sequência:sp|A0A1W2P872.1| RecName: Full=RNA-binding protein Nova-2 [Mus musculus]\n",
      "Q9UNW9 >  e-value:2.18716e-09 e comprimento:175\n",
      "sequência:sp|Q9UNW9.1| RecName: Full=RNA-binding protein Nova-2; AltName: Full=Astrocytic NOVA1-like RNA-binding protein; AltName: Full=Neuro-oncological ventral antigen 2 [Homo sapiens]\n",
      "Q9Y2W6 >  e-value:1.58995e-08 e comprimento:119\n",
      "sequência:sp|Q9Y2W6.2| RecName: Full=Tudor and KH domain-containing protein; AltName: Full=Tudor domain-containing protein 2 [Homo sapiens]\n",
      "Q9SR13 >  e-value:3.05371e-08 e comprimento:330\n",
      "sequência:sp|Q9SR13.1| RecName: Full=Flowering locus K homology domain; Short=Flowering locus KH domain [Arabidopsis thaliana]\n",
      "Q80VL1 >  e-value:3.46662e-08 e comprimento:119\n",
      "sequência:sp|Q80VL1.1| RecName: Full=Tudor and KH domain-containing protein; AltName: Full=Tudor domain-containing protein 2 [Mus musculus]\n",
      "P42731 >  e-value:1.14841e-07 e comprimento:173\n",
      "sequência:sp|P42731.1| RecName: Full=Polyadenylate-binding protein 2; Short=PABP-2; Short=Poly(A)-binding protein 2 [Arabidopsis thaliana]\n",
      "Q28FX0 >  e-value:1.39596e-06 e comprimento:155\n",
      "sequência:sp|Q28FX0.1| RecName: Full=ELAV-like protein 3; AltName: Full=Protein ElrC [Xenopus tropicalis]\n",
      "F4KDN0 >  e-value:1.42222e-06 e comprimento:183\n",
      "sequência:sp|F4KDN0.1| RecName: Full=KH domain-containing protein HEN4; AltName: Full=Protein HUA ENHANCER 4 [Arabidopsis thaliana]\n",
      "Q14576 >  e-value:1.99238e-06 e comprimento:155\n",
      "sequência:sp|Q14576.3| RecName: Full=ELAV-like protein 3; AltName: Full=Hu-antigen C; Short=HuC; AltName: Full=Paraneoplastic cerebellar degeneration-associated antigen; AltName: Full=Paraneoplastic limbic encephalitis antigen 21 [Homo sapiens]\n",
      "P91277 >  e-value:2.08547e-06 e comprimento:357\n",
      "sequência:sp|P91277.1| RecName: Full=Heterogeneous nuclear ribonucleoprotein K homolog; Short=hnRNP K [Caenorhabditis elegans]\n",
      "Q1J219 >  e-value:2.95444e-06 e comprimento:127\n",
      "sequência:sp|Q1J219.1| RecName: Full=Ribonuclease Y; Short=RNase Y [Deinococcus geothermalis DSM 11300]\n",
      "H9JD76 >  e-value:6.30054e-06 e comprimento:134\n",
      "sequência:sp|H9JD76.2| RecName: Full=Tudor and KH domain-containing protein homolog; AltName: Full=Partner of PIWIs protein; Short=BmPAPI [Bombyx mori]\n",
      "Q9M427 >  e-value:6.32436e-06 e comprimento:162\n",
      "sequência:sp|Q9M427.1| RecName: Full=Oligouridylate-binding protein 1; Short=NpUBP1; AltName: Full=Polyuridylate-binding protein UBP1; Short=Poly(U)-binding protein UBP1 [Nicotiana plumbaginifolia]\n"
     ]
    }
   ],
   "source": [
    "resultado=[]\n",
    "for alignment in record.alignments:\n",
    "    evalue=alignment.hsps[0].expect\n",
    "    accession=alignment.accession\n",
    "    length=alignment.hsps[0].align_length\n",
    "    sequence=alignment.title\n",
    "    resultado.append(str(accession) + \" > \" + \" e-value:\"+ str(evalue) + \" e\" + \" comprimento:\" + str(length) + \"\\nsequência:\" + str(sequence))\n",
    "\n",
    "print(\"Os e-values e comprimento dos alinhamentos obtidos para cada sequência são\")\n",
    "print(\" \")\n",
    "for s in resultado:\n",
    "    print(s)"
   ]
  }
 ],
 "metadata": {
  "kernelspec": {
   "display_name": "Python 3",
   "language": "python",
   "name": "python3"
  },
  "language_info": {
   "codemirror_mode": {
    "name": "ipython",
    "version": 3
   },
   "file_extension": ".py",
   "mimetype": "text/x-python",
   "name": "python",
   "nbconvert_exporter": "python",
   "pygments_lexer": "ipython3",
   "version": "3.7.3"
  }
 },
 "nbformat": 4,
 "nbformat_minor": 2
}
