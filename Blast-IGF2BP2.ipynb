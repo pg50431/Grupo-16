{
 "cells": [
  {
   "cell_type": "code",
   "execution_count": 17,
   "id": "116826f0",
   "metadata": {},
   "outputs": [],
   "source": [
    "from Bio.Blast import NCBIXML \n",
    "from Bio.Blast import NCBIWWW \n",
    "from Bio import SeqIO"
   ]
  },
  {
   "cell_type": "code",
   "execution_count": 18,
   "id": "0dc1ee8d",
   "metadata": {
    "scrolled": true
   },
   "outputs": [],
   "source": [
    "seqrecord = SeqIO.read(open(\"IGF2BP2.fasta\"), format=\"fasta\")"
   ]
  },
  {
   "cell_type": "code",
   "execution_count": 19,
   "id": "8af79307",
   "metadata": {},
   "outputs": [],
   "source": [
    "result_handle = NCBIWWW.qblast(\"blastp\", \"nr\", seqrecord.format(\"fasta\"))"
   ]
  },
  {
   "cell_type": "code",
   "execution_count": 20,
   "id": "2cb20876",
   "metadata": {},
   "outputs": [],
   "source": [
    "file_save = open(\"my_blast_IGF2BP2.xml\", \"w\")\n",
    "file_save.write(result_handle.read()) \n",
    "file_save.close() \n",
    "result_handle.close()"
   ]
  },
  {
   "cell_type": "code",
   "execution_count": 21,
   "id": "7a50f645",
   "metadata": {},
   "outputs": [],
   "source": [
    "result_handle = open(\"my_blast_IGF2BP2.xml\")\n",
    "record =  NCBIXML.read(result_handle)"
   ]
  },
  {
   "cell_type": "code",
   "execution_count": 22,
   "id": "c684d90c",
   "metadata": {},
   "outputs": [
    {
     "name": "stdout",
     "output_type": "stream",
     "text": [
      "Parâmetros\n",
      "Database:  nr\n",
      "Matrix:  BLOSUM62\n",
      "Gap penalties:  (11, 1)\n"
     ]
    }
   ],
   "source": [
    "print(\"Parâmetros\")\n",
    "print(\"Database: \" , record.database)\n",
    "print(\"Matrix: \", record.matrix)\n",
    "print(\"Gap penalties: \", record.gap_penalties)"
   ]
  },
  {
   "cell_type": "code",
   "execution_count": 23,
   "id": "5325a065",
   "metadata": {},
   "outputs": [
    {
     "name": "stdout",
     "output_type": "stream",
     "text": [
      "number hits:  50\n"
     ]
    }
   ],
   "source": [
    "nhits = len(record.alignments) \n",
    "print (\"number hits: \", nhits)"
   ]
  },
  {
   "cell_type": "code",
   "execution_count": 24,
   "id": "3e7fb39b",
   "metadata": {},
   "outputs": [
    {
     "name": "stdout",
     "output_type": "stream",
     "text": [
      "E-values and length of alignments:\n",
      "NP_006539 - 0.0 length:599\n",
      "XP_030678805 - 0.0 length:599\n",
      "XP_001095336 - 0.0 length:599\n",
      "AAD09827 - 0.0 length:598\n",
      "XP_021530140 - 0.0 length:599\n",
      "XP_023043232 - 0.0 length:599\n",
      "XP_017393896 - 0.0 length:599\n",
      "XP_011736961 - 0.0 length:599\n",
      "PNI54879 - 0.0 length:605\n",
      "NP_001278798 - 0.0 length:605\n",
      "XP_035130569 - 0.0 length:599\n",
      "XP_007970032 - 0.0 length:599\n",
      "XP_011808764 - 0.0 length:605\n",
      "XP_024099803 - 0.0 length:599\n",
      "XP_039334809 - 0.0 length:599\n",
      "XP_012605264 - 0.0 length:599\n",
      "XP_045395816 - 0.0 length:599\n",
      "XP_047420852 - 0.0 length:599\n",
      "XP_002716509 - 0.0 length:599\n",
      "PNJ69283 - 0.0 length:605\n",
      "XP_012495551 - 0.0 length:599\n",
      "XP_005331072 - 0.0 length:599\n",
      "XP_020013176 - 0.0 length:599\n",
      "XP_026352953 - 0.0 length:599\n",
      "XP_040336944 - 0.0 length:599\n",
      "XP_023980017 - 0.0 length:599\n",
      "XP_032487445 - 0.0 length:599\n",
      "XP_014448030 - 0.0 length:598\n",
      "XP_011284337 - 0.0 length:599\n",
      "XP_039097655 - 0.0 length:599\n",
      "XP_025307198 - 0.0 length:599\n",
      "XP_022426027 - 0.0 length:599\n",
      "XP_024898008 - 0.0 length:599\n",
      "XP_020925656 - 0.0 length:599\n",
      "XP_026245091 - 0.0 length:598\n",
      "XP_004745244 - 0.0 length:599\n",
      "XP_049736878 - 0.0 length:599\n",
      "XP_027807278 - 0.0 length:605\n",
      "XP_004424674 - 0.0 length:599\n",
      "XP_007451449 - 0.0 length:599\n",
      "XP_019479574 - 0.0 length:599\n",
      "KAF6477700 - 0.0 length:598\n",
      "XP_004406792 - 0.0 length:599\n",
      "XP_036731185 - 0.0 length:599\n",
      "XP_004278502 - 0.0 length:599\n",
      "XP_003792776 - 0.0 length:599\n",
      "XP_012495545 - 0.0 length:605\n",
      "NP_001179433 - 0.0 length:599\n",
      "XP_010974463 - 0.0 length:599\n",
      "XP_011380413 - 0.0 length:599\n"
     ]
    }
   ],
   "source": [
    "res = []\n",
    "for alignment in record.alignments:\n",
    "    evalue = alignment.hsps[0].expect\n",
    "    accession = alignment.accession\n",
    "    leng = alignment.hsps[0].align_length\n",
    "    res.append(accession + \" - \" + str(evalue) + \" length:\" + str(leng) )\n",
    "\n",
    "print(\"E-values and length of alignments:\")\n",
    "for s in res: print(s)"
   ]
  },
  {
   "cell_type": "code",
   "execution_count": 25,
   "id": "bed8cb23",
   "metadata": {},
   "outputs": [
    {
     "name": "stdout",
     "output_type": "stream",
     "text": [
      "Accession: NP_006539\n",
      "Hit id: ref|NP_006539.3|\n",
      "Definition: insulin-like growth factor 2 mRNA-binding protein 2 isoform a [Homo sapiens] >ref|XP_001151234.3| insulin-like growth factor 2 mRNA-binding protein 2 isoform X1 [Pan troglodytes] >ref|XP_030865075.1| insulin-like growth factor 2 mRNA-binding protein 2 isoform X1 [Gorilla gorilla gorilla] >ref|XP_034813742.1| insulin-like growth factor 2 mRNA-binding protein 2 isoform X2 [Pan paniscus] >sp|Q9Y6M1.2| RecName: Full=Insulin-like growth factor 2 mRNA-binding protein 2; Short=IGF2 mRNA-binding protein 2; Short=IMP-2; AltName: Full=Hepatocellular carcinoma autoantigen p62; AltName: Full=IGF-II mRNA-binding protein 2; AltName: Full=VICKZ family member 2 [Homo sapiens] >gb|EAW78211.1| insulin-like growth factor 2 mRNA binding protein 2, isoform CRA_c [Homo sapiens] >gb|KAI2532850.1| insulin like growth factor 2 mRNA binding protein 2 [Homo sapiens] >gb|KAI4032925.1| insulin like growth factor 2 mRNA binding protein 2 [Homo sapiens] >gb|PNI54877.1| IGF2BP2 isoform 1 [Pan troglodytes] >dbj|BAF83353.1| unnamed protein product [Homo sapiens]\n",
      "Number of HSPs:  1\n",
      "E-value:  0.0\n",
      "Length:  599\n",
      "Identities:  599\n",
      "Query start:  1\n",
      "Sbjct start:  1\n",
      "MMNKLYIGNLSPAVTADDLRQLFGDRKLPLAGQVLLKSGYAFVDYPDQNWAIRAIETLSGKVELHGKIMEVDYSVSKKLRSRKIQIRNIP\n",
      "MMNKLYIGNLSPAVTADDLRQLFGDRKLPLAGQVLLKSGYAFVDYPDQNWAIRAIETLSGKVELHGKIMEVDYSVSKKLRSRKIQIRNIP\n",
      "MMNKLYIGNLSPAVTADDLRQLFGDRKLPLAGQVLLKSGYAFVDYPDQNWAIRAIETLSGKVELHGKIMEVDYSVSKKLRSRKIQIRNIP\n",
      "\n"
     ]
    }
   ],
   "source": [
    "result_handle2 = open(\"my_blast_IGF2BP2.xml\")\n",
    "record2 = NCBIXML.read(result_handle2)\n",
    "\n",
    "first_alignment = record2.alignments[0]\n",
    "\n",
    "print (\"Accession: \" + first_alignment.accession)\n",
    "print (\"Hit id: \" + first_alignment.hit_id)\n",
    "print (\"Definition: \" + first_alignment.hit_def)\n",
    "\n",
    "print (\"Number of HSPs: \", len(first_alignment.hsps))\n",
    "\n",
    "for hsp in first_alignment.hsps:\n",
    "    print (\"E-value: \", hsp.expect)\n",
    "    print (\"Length: \", hsp.align_length)\n",
    "    print (\"Identities: \", hsp.identities)\n",
    "    print (\"Query start: \", hsp.query_start)\n",
    "    print (\"Sbjct start: \", hsp.sbjct_start)\n",
    "    print (hsp.query[0:90])\n",
    "    print (hsp.match[0:90])\n",
    "    print (hsp.sbjct[0:90])\n",
    "    print (\"\")"
   ]
  }
 ],
 "metadata": {
  "kernelspec": {
   "display_name": "Python 3 (ipykernel)",
   "language": "python",
   "name": "python3"
  },
  "language_info": {
   "codemirror_mode": {
    "name": "ipython",
    "version": 3
   },
   "file_extension": ".py",
   "mimetype": "text/x-python",
   "name": "python",
   "nbconvert_exporter": "python",
   "pygments_lexer": "ipython3",
   "version": "3.9.12"
  }
 },
 "nbformat": 4,
 "nbformat_minor": 5
}
