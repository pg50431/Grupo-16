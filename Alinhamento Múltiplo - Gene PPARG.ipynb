{
 "cells": [
  {
   "cell_type": "markdown",
   "metadata": {},
   "source": [
    "# Alinhamento Múltiplo - Gene PPARG"
   ]
  },
  {
   "cell_type": "markdown",
   "metadata": {},
   "source": [
    "GRUPO 16: Catarina Oliveira (PG50290), Inês Cabral (PG50431), Joana Fernandes (PG50459), Maria Pimenta (PG50616)"
   ]
  },
  {
   "cell_type": "markdown",
   "metadata": {},
   "source": [
    "Importar os dados necessários \n",
    "\n",
    "NOTA: o ficheiro da sequência nucleotidica PPARG tem que ser guardado em formato fasta, para que as sequências homológas obtidas entrem na construção das árvores filogenéticas."
   ]
  },
  {
   "cell_type": "code",
   "execution_count": 66,
   "metadata": {},
   "outputs": [],
   "source": [
    "from Bio.Blast import NCBIXML\n",
    "from Bio.Blast import NCBIWWW\n",
    "from Bio import SeqIO\n",
    "from Bio import Entrez\n",
    "\n",
    "seqrecord=SeqIO.read(open(\"PPARG.fasta\"),format=\"fasta\")"
   ]
  },
  {
   "cell_type": "markdown",
   "metadata": {},
   "source": [
    "Realizar a pesquisa remota no BLAST, que utiliza a base de dados nt, e, através do módulo Bio.NCBIWWW, aceder à versão WWW do blast forncida pelo NCBI."
   ]
  },
  {
   "cell_type": "code",
   "execution_count": 67,
   "metadata": {},
   "outputs": [],
   "source": [
    "result_handle=NCBIWWW.qblast(\"blastp\", \"swissprot\", seqrecord.format(\"fasta\"))"
   ]
  },
  {
   "cell_type": "markdown",
   "metadata": {},
   "source": [
    "Guardar os resultados obtidos num ficheiro xml para serem analisados, sendo necessário recorrer ao módulo Bio.NCBIXML."
   ]
  },
  {
   "cell_type": "code",
   "execution_count": 68,
   "metadata": {},
   "outputs": [],
   "source": [
    "save_file=open(\"PPARG.xml\", \"w\")\n",
    "save_file.write(result_handle.read())\n",
    "save_file.close()\n",
    "result_handle.close()"
   ]
  },
  {
   "cell_type": "code",
   "execution_count": 69,
   "metadata": {},
   "outputs": [],
   "source": [
    "result_handle=open(\"PPARG.xml\")\n",
    "record=NCBIXML.read(result_handle)"
   ]
  },
  {
   "cell_type": "markdown",
   "metadata": {},
   "source": [
    "Dar os parâmetros globais da pesquisa realizada no BLAST."
   ]
  },
  {
   "cell_type": "code",
   "execution_count": 73,
   "metadata": {},
   "outputs": [
    {
     "name": "stdout",
     "output_type": "stream",
     "text": [
      "A base de dados utilizada foi swissprot\n",
      "A matriz de substituição utilizada no alinhamento foi BLOSUM62\n",
      "Os parâmetros de espaçamento do alinhamento são (11, 1)\n"
     ]
    }
   ],
   "source": [
    "print(\"A base de dados utilizada foi\", record.database)\n",
    "print(\"A matriz de substituição utilizada no alinhamento foi\", record.matrix)\n",
    "print(\"Os parâmetros de espaçamento do alinhamento são\", record.gap_penalties)"
   ]
  },
  {
   "cell_type": "markdown",
   "metadata": {},
   "source": [
    "Determinar o número de sequências homólogas da sequência nucleotídica em questão encontradas pelo BLAST, ou seja, o número de alinhamentos retornados (número de hits)."
   ]
  },
  {
   "cell_type": "code",
   "execution_count": 71,
   "metadata": {
    "scrolled": true
   },
   "outputs": [
    {
     "name": "stdout",
     "output_type": "stream",
     "text": [
      "O número de alinhamentos retornados é 50\n"
     ]
    }
   ],
   "source": [
    "nhits=len(record.alignments)\n",
    "print(\"O número de alinhamentos retornados é\", nhits)"
   ]
  },
  {
   "cell_type": "markdown",
   "metadata": {},
   "source": [
    "Identificar a lista de acession numbers, os e-values, os comprimentos dos alinhamentos e a identificação das sequências homólogas dos alinhamentos obtidos na pesquisa. \n",
    "\n",
    "    > acession number - identificador único que é dado a uma sequência de um polímero biológico (DNA, RNA, proteína) quando as sequências (nucleotídicas ou de aminoácidos) são subtmetidas a um banco de dados. \n",
    "    > e-value - parâmetro que demonstra a probabilidade do alinhamento ter sido realizado ao acaso. Quanto mais próximo de zero for o valor, mais confiável é a correspondência dos alinhamentos retornados. Para alinhamentos mais curtos o e-value pode ser relativamente alto, dado que ele tem em consideração o tamanho da sequência inicial (query), e como tal sequências mais curtas têm maior probabilidade de ocorrer ao acaso numa base de dados."
   ]
  },
  {
   "cell_type": "code",
   "execution_count": 72,
   "metadata": {},
   "outputs": [
    {
     "name": "stdout",
     "output_type": "stream",
     "text": [
      "E-values e comprimento dos alinhamentos obtidos:\n",
      " \n",
      "Q4U3Q4 >  e-value:0.0 e length:475\n",
      "sequência:sp|Q4U3Q4.1| RecName: Full=Peroxisome proliferator-activated receptor gamma; Short=PPAR-gamma; AltName: Full=Nuclear receptor subfamily 1 group C member 3 [Canis lupus familiaris]\n",
      "O18924 >  e-value:0.0 e length:475\n",
      "sequência:sp|O18924.1| RecName: Full=Peroxisome proliferator-activated receptor gamma; Short=PPAR-gamma; AltName: Full=Nuclear receptor subfamily 1 group C member 3 [Macaca mulatta]\n",
      "O62807 >  e-value:0.0 e length:475\n",
      "sequência:sp|O62807.1| RecName: Full=Peroxisome proliferator-activated receptor gamma; Short=PPAR-gamma; AltName: Full=Nuclear receptor subfamily 1 group C member 3 [Sus scrofa]\n",
      "P37231 >  e-value:0.0 e length:475\n",
      "sequência:sp|P37231.3| RecName: Full=Peroxisome proliferator-activated receptor gamma; Short=PPAR-gamma; AltName: Full=Nuclear receptor subfamily 1 group C member 3 [Homo sapiens]\n",
      "P57797 >  e-value:0.0 e length:475\n",
      "sequência:sp|P57797.1| RecName: Full=Peroxisome proliferator-activated receptor gamma; Short=PPAR-gamma; AltName: Full=Nuclear receptor subfamily 1 group C member 3 [Cricetulus griseus]\n",
      "O88275 >  e-value:0.0 e length:475\n",
      "sequência:sp|O88275.2| RecName: Full=Peroxisome proliferator-activated receptor gamma; Short=PPAR-gamma; AltName: Full=Nuclear receptor subfamily 1 group C member 3 [Rattus norvegicus]\n",
      "P37238 >  e-value:0.0 e length:475\n",
      "sequência:sp|P37238.3| RecName: Full=Peroxisome proliferator-activated receptor gamma; Short=PPAR-gamma; AltName: Full=Nuclear receptor subfamily 1 group C member 3 [Mus musculus]\n",
      "O18971 >  e-value:0.0 e length:475\n",
      "sequência:sp|O18971.1| RecName: Full=Peroxisome proliferator-activated receptor gamma; Short=PPAR-gamma; AltName: Full=Nuclear receptor subfamily 1 group C member 3 [Bos taurus]\n",
      "O19052 >  e-value:0.0 e length:475\n",
      "sequência:sp|O19052.1| RecName: Full=Peroxisome proliferator-activated receptor gamma; Short=PPAR-gamma; AltName: Full=Nuclear receptor subfamily 1 group C member 3 [Oryctolagus cuniculus]\n",
      "P37234 >  e-value:0.0 e length:483\n",
      "sequência:sp|P37234.1| RecName: Full=Peroxisome proliferator-activated receptor gamma; Short=PPAR-gamma; AltName: Full=Nuclear receptor subfamily 1 group C member 3 [Xenopus laevis]\n",
      "Q03181 >  e-value:0.0 e length:372\n",
      "sequência:sp|Q03181.1| RecName: Full=Peroxisome proliferator-activated receptor delta; Short=PPAR-delta; AltName: Full=NUCI; AltName: Full=Nuclear hormone receptor 1; Short=NUC1; AltName: Full=Nuclear receptor subfamily 1 group C member 2; AltName: Full=Peroxisome proliferator-activated receptor beta; Short=PPAR-beta [Homo sapiens]\n",
      "Q95N78 >  e-value:0.0 e length:379\n",
      "sequência:sp|Q95N78.1| RecName: Full=Peroxisome proliferator-activated receptor alpha; Short=PPAR-alpha; AltName: Full=Nuclear receptor subfamily 1 group C member 1 [Canis lupus familiaris]\n",
      "Q0ZAQ8 >  e-value:0.0 e length:372\n",
      "sequência:sp|Q0ZAQ8.1| RecName: Full=Peroxisome proliferator-activated receptor delta; Short=PPAR-delta; AltName: Full=Nuclear receptor subfamily 1 group C member 2; AltName: Full=Peroxisome proliferator-activated receptor beta; Short=PPAR-beta [Canis lupus familiaris]\n",
      "Q07869 >  e-value:0.0 e length:399\n",
      "sequência:sp|Q07869.2| RecName: Full=Peroxisome proliferator-activated receptor alpha; Short=PPAR-alpha; AltName: Full=Nuclear receptor subfamily 1 group C member 1 [Homo sapiens]\n",
      "P37230 >  e-value:0.0 e length:379\n",
      "sequência:sp|P37230.1| RecName: Full=Peroxisome proliferator-activated receptor alpha; Short=PPAR-alpha; AltName: Full=Nuclear receptor subfamily 1 group C member 1 [Rattus norvegicus]\n",
      "P23204 >  e-value:0.0 e length:379\n",
      "sequência:sp|P23204.2| RecName: Full=Peroxisome proliferator-activated receptor alpha; Short=PPAR-alpha; AltName: Full=Nuclear receptor subfamily 1 group C member 1 [Mus musculus]\n",
      "P35396 >  e-value:0.0 e length:376\n",
      "sequência:sp|P35396.1| RecName: Full=Peroxisome proliferator-activated receptor delta; Short=PPAR-delta; AltName: Full=Nuclear hormone receptor 1; Short=NUC1; AltName: Full=Nuclear receptor subfamily 1 group C member 2; AltName: Full=Peroxisome proliferator-activated receptor beta; Short=PPAR-beta [Mus musculus]\n",
      "Q8HYL6 >  e-value:0.0 e length:379\n",
      "sequência:sp|Q8HYL6.1| RecName: Full=Peroxisome proliferator-activated receptor alpha; Short=PPAR-alpha; AltName: Full=Nuclear receptor subfamily 1 group C member 1 [Phascolarctos cinereus]\n",
      "P37232 >  e-value:0.0 e length:399\n",
      "sequência:sp|P37232.1| RecName: Full=Peroxisome proliferator-activated receptor alpha; Short=PPAR-alpha; AltName: Full=Nuclear receptor subfamily 1 group C member 1 [Xenopus laevis]\n",
      "O35507 >  e-value:4.58266e-178 e length:379\n",
      "sequência:sp|O35507.1| RecName: Full=Peroxisome proliferator-activated receptor alpha; Short=PPAR-alpha; AltName: Full=Nuclear receptor subfamily 1 group C member 1 [Cavia porcellus]\n",
      "P37233 >  e-value:2.23939e-164 e length:379\n",
      "sequência:sp|P37233.1| RecName: Full=Peroxisome proliferator-activated receptor delta; Short=PPAR-delta; AltName: Full=Nuclear receptor subfamily 1 group C member 2; AltName: Full=Peroxisome proliferator-activated receptor beta; Short=PPAR-beta [Xenopus laevis]\n",
      "O77245 >  e-value:4.5495e-68 e length:377\n",
      "sequência:sp|O77245.1| RecName: Full=Nuclear hormone receptor E75; AltName: Full=Nuclear receptor subfamily 1 group D member 3 [Metapenaeus ensis]\n",
      "P17671 >  e-value:4.36007e-58 e length:365\n",
      "sequência:sp|P17671.2| RecName: Full=Ecdysone-induced protein 75B, isoforms C/D; AltName: Full=E75-A; AltName: Full=Nuclear receptor subfamily 1 group D member 3, isoforms C/D [Drosophila melanogaster]\n",
      "P13055 >  e-value:5.41596e-58 e length:364\n",
      "sequência:sp|P13055.2| RecName: Full=Ecdysone-induced protein 75B, isoform B; AltName: Full=E75-C; AltName: Full=Nuclear receptor subfamily 1 group D member 3, isoform B [Drosophila melanogaster]\n",
      "P50239 >  e-value:4.66998e-57 e length:360\n",
      "sequência:sp|P50239.1| RecName: Full=Ecdysone-inducible protein E75; AltName: Full=Nuclear receptor subfamily 1 group D member 3 [Galleria mellonella]\n",
      "Q08893 >  e-value:5.07731e-54 e length:379\n",
      "sequência:sp|Q08893.2| RecName: Full=Ecdysone-inducible protein E75; AltName: Full=Nuclear receptor subfamily 1 group D member 3 [Manduca sexta]\n",
      "O01639 >  e-value:2.54113e-53 e length:379\n",
      "sequência:sp|O01639.1| RecName: Full=Ecdysone-inducible protein E75; AltName: Full=Nuclear receptor subfamily 1 group D member 3 [Choristoneura fumiferana]\n",
      "P18514 >  e-value:5.11186e-49 e length:369\n",
      "sequência:sp|P18514.1| RecName: Full=Retinoic acid receptor alpha; Short=RAR-alpha; AltName: Full=Nuclear receptor subfamily 1 group B member 1 [Notophthalmus viridescens]\n",
      "P10276 >  e-value:1.7963e-48 e length:369\n",
      "sequência:sp|P10276.2| RecName: Full=Retinoic acid receptor alpha; Short=RAR-alpha; AltName: Full=Nuclear receptor subfamily 1 group B member 1 [Homo sapiens]\n",
      "P51126 >  e-value:4.45742e-48 e length:369\n",
      "sequência:sp|P51126.1| RecName: Full=Retinoic acid receptor alpha; Short=RAR-alpha; AltName: Full=Nuclear receptor subfamily 1 group B member 1 [Xenopus laevis]\n",
      "Q9W5Z3 >  e-value:1.41896e-47 e length:369\n",
      "sequência:sp|Q9W5Z3.1| RecName: Full=Retinoic acid receptor alpha; Short=RAR-alpha; AltName: Full=Nuclear receptor subfamily 1 group B member 1 [Takifugu rubripes]\n",
      "P18516 >  e-value:1.97341e-47 e length:369\n",
      "sequência:sp|P18516.2| RecName: Full=Retinoic acid receptor gamma; Short=RAR-gamma; AltName: Full=Nuclear receptor subfamily 1 group B member 3; AltName: Full=Retinoic acid receptor delta; Short=RAR-delta [Notophthalmus viridescens]\n",
      "Q90271 >  e-value:1.77015e-46 e length:369\n",
      "sequência:sp|Q90271.2| RecName: Full=Retinoic acid receptor alpha-A; Short=RAR-alpha-A; AltName: Full=Nuclear receptor subfamily 1 group B member 1-A; AltName: Full=Retinoic acid receptor alpha; Short=zRAR alpha; AltName: Full=Retinoic acid receptor alpha-2.A; Short=RAR-alpha-2.A [Danio rerio]\n",
      "P13631 >  e-value:2.02592e-44 e length:369\n",
      "sequência:sp|P13631.1| RecName: Full=Retinoic acid receptor gamma; Short=RAR-gamma; AltName: Full=Nuclear receptor subfamily 1 group B member 3 [Homo sapiens]\n",
      "P18911 >  e-value:2.1191e-44 e length:369\n",
      "sequência:sp|P18911.3| RecName: Full=Retinoic acid receptor gamma; Short=RAR-gamma; AltName: Full=Nuclear receptor subfamily 1 group B member 3 [Mus musculus]\n",
      "Q90416 >  e-value:6.88612e-44 e length:367\n",
      "sequência:sp|Q90416.2| RecName: Full=Retinoic acid receptor RXR-gamma-A; AltName: Full=Nuclear receptor subfamily 2 group B member 3-A; AltName: Full=Retinoic acid receptor RXR-alpha; AltName: Full=Retinoid X receptor alpha; AltName: Full=Retinoid X receptor gamma-A [Danio rerio]\n",
      "Q6DHP9 >  e-value:1.33459e-42 e length:366\n",
      "sequência:sp|Q6DHP9.1| RecName: Full=Retinoic acid receptor RXR-gamma-B; AltName: Full=Nuclear receptor subfamily 2 group B member 3-B; AltName: Full=Retinoid X receptor gamma-B [Danio rerio]\n",
      "Q0GFF6 >  e-value:2.62667e-42 e length:382\n",
      "sequência:sp|Q0GFF6.2| RecName: Full=Retinoic acid receptor RXR-gamma; AltName: Full=Nuclear receptor subfamily 2 group B member 3; AltName: Full=Retinoid X receptor gamma [Sus scrofa]\n",
      "Q5REL6 >  e-value:2.99751e-42 e length:382\n",
      "sequência:sp|Q5REL6.1| RecName: Full=Retinoic acid receptor RXR-gamma; AltName: Full=Nuclear receptor subfamily 2 group B member 3; AltName: Full=Retinoid X receptor gamma [Pongo abelii]\n",
      "P28701 >  e-value:3.35017e-42 e length:382\n",
      "sequência:sp|P28701.1| RecName: Full=Retinoic acid receptor RXR-gamma; AltName: Full=Nuclear receptor subfamily 2 group B member 3; AltName: Full=Retinoid X receptor gamma [Gallus gallus]\n",
      "P51129 >  e-value:3.79033e-42 e length:367\n",
      "sequência:sp|P51129.1| RecName: Full=Retinoic acid receptor RXR-gamma; AltName: Full=Nuclear receptor subfamily 2 group B member 3; AltName: Full=Retinoid X receptor gamma [Xenopus laevis]\n",
      "P28705 >  e-value:3.94324e-42 e length:382\n",
      "sequência:sp|P28705.2| RecName: Full=Retinoic acid receptor RXR-gamma; AltName: Full=Nuclear receptor subfamily 2 group B member 3; AltName: Full=Retinoid X receptor gamma [Mus musculus]\n",
      "Q5BJR8 >  e-value:4.88039e-42 e length:382\n",
      "sequência:sp|Q5BJR8.1| RecName: Full=Retinoic acid receptor RXR-gamma; AltName: Full=Nuclear receptor subfamily 2 group B member 3; AltName: Full=Retinoid X receptor gamma [Rattus norvegicus]\n",
      "P48443 >  e-value:6.41918e-42 e length:382\n",
      "sequência:sp|P48443.1| RecName: Full=Retinoic acid receptor RXR-gamma; AltName: Full=Nuclear receptor subfamily 2 group B member 3; AltName: Full=Retinoid X receptor gamma [Homo sapiens]\n",
      "Q0VC20 >  e-value:1.88101e-41 e length:382\n",
      "sequência:sp|Q0VC20.1| RecName: Full=Retinoic acid receptor RXR-gamma; AltName: Full=Nuclear receptor subfamily 2 group B member 3; AltName: Full=Retinoid X receptor gamma [Bos taurus]\n",
      "Q62685 >  e-value:3.07389e-41 e length:401\n",
      "sequência:sp|Q62685.1| RecName: Full=Oxysterols receptor LXR-alpha; AltName: Full=Liver X receptor alpha; AltName: Full=Nuclear receptor subfamily 1 group H member 3; AltName: Full=RLD-1 [Rattus norvegicus]\n",
      "Q90415 >  e-value:3.11283e-41 e length:367\n",
      "sequência:sp|Q90415.1| RecName: Full=Retinoic acid receptor RXR-alpha-B; AltName: Full=Nuclear receptor subfamily 2 group B member 1-B; AltName: Full=Retinoid X receptor alpha-B [Danio rerio]\n",
      "P17672 >  e-value:6.4818e-40 e length:352\n",
      "sequência:sp|P17672.2| RecName: Full=Ecdysone-induced protein 75B, isoform A; Short=E75-B; AltName: Full=Nuclear receptor subfamily 1 group D member 3, isoform A [Drosophila melanogaster]\n",
      "P19793 >  e-value:8.9833e-40 e length:371\n",
      "sequência:sp|P19793.1| RecName: Full=Retinoic acid receptor RXR-alpha; AltName: Full=Nuclear receptor subfamily 2 group B member 1; AltName: Full=Retinoid X receptor alpha [Homo sapiens]\n",
      "P51128 >  e-value:9.41919e-40 e length:370\n",
      "sequência:sp|P51128.1| RecName: Full=Retinoic acid receptor RXR-alpha; AltName: Full=Nuclear receptor subfamily 2 group B member 1; AltName: Full=Retinoid X receptor alpha [Xenopus laevis]\n"
     ]
    }
   ],
   "source": [
    "resultado=[]\n",
    "for alignment in record.alignments:\n",
    "    evalue=alignment.hsps[0].expect\n",
    "    accession=alignment.accession\n",
    "    length=alignment.hsps[0].align_length\n",
    "    sequence=alignment.title\n",
    "    resultado.append(str(accession) + \" > \" + \" e-value:\"+ str(evalue) + \" e\" + \" length:\" + str(length) + \"\\nsequência:\" + str(sequence))\n",
    "\n",
    "print(\"E-values e comprimento dos alinhamentos obtidos:\")\n",
    "print(\" \")\n",
    "for s in resultado:\n",
    "    print(s)"
   ]
  }
 ],
 "metadata": {
  "kernelspec": {
   "display_name": "Python 3",
   "language": "python",
   "name": "python3"
  },
  "language_info": {
   "codemirror_mode": {
    "name": "ipython",
    "version": 3
   },
   "file_extension": ".py",
   "mimetype": "text/x-python",
   "name": "python",
   "nbconvert_exporter": "python",
   "pygments_lexer": "ipython3",
   "version": "3.7.3"
  }
 },
 "nbformat": 4,
 "nbformat_minor": 2
}
