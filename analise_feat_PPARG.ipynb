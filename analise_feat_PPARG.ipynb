{
 "cells": [
  {
   "cell_type": "markdown",
   "id": "3b63d79a-f725-41ac-8980-7bbdc6f64964",
   "metadata": {},
   "source": [
    "Carregar módulos necessários:"
   ]
  },
  {
   "cell_type": "code",
   "execution_count": 192,
   "id": "7756d338-b8a5-405e-8592-0e999f566b01",
   "metadata": {},
   "outputs": [],
   "source": [
    "from Bio import SeqIO"
   ]
  },
  {
   "cell_type": "markdown",
   "id": "a2663a09-3a40-4d6b-8b7a-fd75e7adef94",
   "metadata": {},
   "source": [
    "Leitura do gene PPARG no ficheiro genbank respetivo:"
   ]
  },
  {
   "cell_type": "code",
   "execution_count": 193,
   "id": "92e7d356-edc3-4a70-bd49-5fddbd6ec705",
   "metadata": {},
   "outputs": [],
   "source": [
    "record = SeqIO.read(\"PPARG.gb\", \"genbank\")"
   ]
  },
  {
   "cell_type": "markdown",
   "id": "ee914dd5-94bc-422b-ab3b-1fbb1f986fb0",
   "metadata": {},
   "source": [
    "Informação global do gene:"
   ]
  },
  {
   "cell_type": "code",
   "execution_count": 194,
   "id": "5bb760c2-70f7-4b98-bf6d-e60104b04cda",
   "metadata": {},
   "outputs": [
    {
     "name": "stdout",
     "output_type": "stream",
     "text": [
      "Seq: GTTCGTTGCAACAAATTGATGAGCAATGCTTTTTTATAATGCCAACTTTGTACAAAAAAGTTGGCATGACCATGGTTGACACAGAGATGCCATTCTGGCCCACCAACTTTGGGATCAGCTCCGTGGATCTCTCCGTAATGGAAGACCACTCCCACTCCTTTGATATCAAGCCCTTCACTACTGTTGACTTCTCCAGCATTTCTACTCCACATTACGAAGACATTCCATTCACAAGAACAGATCCAGTGGTTGCAGATTACAAGTATGACCTGAAACTTCAAGAGTACCAAAGTGCAATCAAAGTGGAGCCTGCATCTCCACCTTATTATTCTGAGAAGACTCAGCTCTACAATAAGCCTCATGAAGAGCCTTCCAACTCCCTCATGGCAATTGAATGTCGTGTCTGTGGAGATAAAGCTTCTGGATTTCACTATGGAGTTCATGCTTGTGAAGGATGCAAGGGTTTCTTCCGGAGAACAATCAGATTGAAGCTTATCTATGACAGATGTGATCTTAACTGTCGGATCCACAAAAAAAGTAGAAATAAATGTCAGTACTGTCGGTTTCAGAAATGCCTTGCAGTGGGGATGTCTCATAATGCCATCAGGTTTGGGCGGATGCCACAGGCCGAGAAGGAGAAGCTGTTGGCGGAGATCTCCAGTGATATCGACCAGCTGAATCCAGAGTCCGCTGACCTCCGGGCCCTGGCAAAACATTTGTATGACTCATACATAAAGTCCTTCCCGCTGACCAAAGCAAAGGCGAGGGCGATCTTGACAGGAAAGACAACAGACAAATCACCATTCGTTATCTATGACATGAATTCCTTAATGATGGGAGAAGATAAAATCAAGTTCAAACACATCACCCCCCTGCAGGAGCAGAGCAAAGAGGTGGCCATCCGCATCTTTCAGGGCTGCCAGTTTCGCTCCGTGGAGGCTGTGCAGGAGATCACAGAGTATGCCAAAAGCATTCCTGGTTTTGTAAATCTTGACTTGAACGACCAAGTAACTCTCCTCAAATATGGAGTCCACGAGATCATTTACACAATGCTGGCCTCCTTGATGAATAAAGATGGGGTTCTCATATCCGAGGGCCAAGGCTTCATGACAAGGGAGTTTCTAAAGAGCCTGCGAAAGCCTTTTGGTGACTTTATGGAGCCCAAGTTTGAGTTTGCTGTGAAGTTCAATGCACTGGAATTAGATGACAGCGACTTGGCAATATTTATTGCTGTCATTATTCTCAGTGGAAACCGCCCAGGTTTGCTGAATGTGAAGCCCATTGAAGACATTCAAGACAACCTGCTACAAGCCCTGGAGCTCCAGCTGAAGCTGAACCACCCTGAGTCCTCACAGCTGTTTGCCAAGCTGCTCCAGAAAATGACAGACCTCAGACAGATTGTCACGGAACACGTGCAGCTACTGCAGGTGATCAAGAAGACGGAGACAGACATGAGTCTTCACCCGCTCCTGCAGGAGATCTACAAGGACTTGTACTACCCAACTTTCTTGTACAAAGTTGGCATTATAAGAAAGCATTGCTTATCAATTTGTTGCAACGAAC\n",
      "ID: KR709634.1\n",
      "Name: KR709634\n",
      "Size: 1563\n",
      "Description: Synthetic construct Homo sapiens clone CCSBHm_00004362 PPARG (PPARG) mRNA, encodes complete protein\n"
     ]
    }
   ],
   "source": [
    "print('Seq:',record.seq)\n",
    "print('ID:',record.id)\n",
    "print('Name:',record.name)\n",
    "print('Size:',len(record.seq))\n",
    "print('Description:',record.description)"
   ]
  },
  {
   "cell_type": "markdown",
   "id": "796cbcdf-974a-4f12-885f-58c4467792bd",
   "metadata": {},
   "source": [
    "Anotações:"
   ]
  },
  {
   "cell_type": "code",
   "execution_count": 195,
   "id": "437cd29a-49b7-495e-980a-58ee4ef05277",
   "metadata": {},
   "outputs": [],
   "source": [
    "annotations=record.annotations"
   ]
  },
  {
   "cell_type": "code",
   "execution_count": 196,
   "id": "f1148d1c-4ec7-489d-8dee-6f9cd62eb8fb",
   "metadata": {},
   "outputs": [
    {
     "name": "stdout",
     "output_type": "stream",
     "text": [
      "Acession Code: ['KR709634']\n",
      "Moleculer type: DNA\n",
      "Topology: linear\n",
      "Organism: synthetic construct\n",
      "Taxonomy: ['other sequences', 'artificial sequences']\n",
      "Date: 01-JUN-2015\n",
      "Version: 1\n",
      "Keywords: ['human mutation ORFeome', 'hmORFeome1.1', 'Gateway cloning system', 'full-length ORF']\n",
      "Source: synthetic construct\n",
      "References: [Reference(title='Widespread macromolecular interaction perturbations in human genetic disorders', ...), Reference(title='Direct Submission', ...)]\n",
      "Comments: For distribution information, please check CCSB website\n",
      "(http://ccsb.dfci.harvard.edu/ and\n",
      "http://horfdb.dfci.harvard.edu/).\n"
     ]
    }
   ],
   "source": [
    "print('Acession Code:',record.annotations['accessions'])\n",
    "print('Moleculer type:',record.annotations['molecule_type'])\n",
    "print('Topology:',record.annotations['topology'])\n",
    "print('Organism:',record.annotations['organism'])\n",
    "print('Taxonomy:',record.annotations['taxonomy'])\n",
    "print('Date:',record.annotations['date'])\n",
    "print('Version:',record.annotations['sequence_version'])\n",
    "print('Keywords:',record.annotations['keywords'])\n",
    "print('Source:',record.annotations['source'])\n",
    "print('References:',record.annotations['references'])\n",
    "print('Comments:',record.annotations['comment'])"
   ]
  },
  {
   "cell_type": "markdown",
   "id": "1094de64-8754-4c25-b38a-fdc8e4d4e305",
   "metadata": {},
   "source": [
    "Features:"
   ]
  },
  {
   "cell_type": "markdown",
   "id": "d81789d5-74ff-4b43-b7c6-a5bd549f4110",
   "metadata": {},
   "source": [
    "Gene"
   ]
  },
  {
   "cell_type": "code",
   "execution_count": 197,
   "id": "64c46824-51b2-4a1b-8b3e-971d42423452",
   "metadata": {},
   "outputs": [],
   "source": [
    "feat=record.features\n",
    "featgene = [ ]"
   ]
  },
  {
   "cell_type": "code",
   "execution_count": 198,
   "id": "445d684e-da13-40ab-8098-eed75b068e20",
   "metadata": {},
   "outputs": [
    {
     "name": "stdout",
     "output_type": "stream",
     "text": [
      "Location: [65:>1496](+)\n"
     ]
    }
   ],
   "source": [
    "for i in range(len(feat)):\n",
    "    if feat[i].type == \"gene\":\n",
    "        featgene.append(i)\n",
    "for k in featgene:\n",
    "    print ('Location:',feat[k].location)"
   ]
  },
  {
   "cell_type": "markdown",
   "id": "c8fcc543-8a30-46c1-94e8-be07106e79df",
   "metadata": {},
   "source": [
    "Qualifiers:"
   ]
  },
  {
   "cell_type": "code",
   "execution_count": 199,
   "id": "a61cf904-ce22-41f1-a252-8e4d46db1afe",
   "metadata": {},
   "outputs": [
    {
     "name": "stdout",
     "output_type": "stream",
     "text": [
      "Gene: ['PPARG']\n",
      "Informação adicional: ['GeneID:5468']\n"
     ]
    }
   ],
   "source": [
    "for k in featgene:\n",
    "    print(\"Gene:\", feat[k].qualifiers['gene'])\n",
    "    print('Informação adicional:',feat[k].qualifiers['db_xref'])"
   ]
  },
  {
   "cell_type": "markdown",
   "id": "91c020d0-97f6-4052-be32-c8e37134faec",
   "metadata": {},
   "source": [
    "CDS"
   ]
  },
  {
   "cell_type": "code",
   "execution_count": 200,
   "id": "f96ca24b-f172-418e-b4b1-97ba4418d65b",
   "metadata": {},
   "outputs": [],
   "source": [
    "featcds = [ ]"
   ]
  },
  {
   "cell_type": "code",
   "execution_count": 201,
   "id": "0ddc81e1-7a29-4127-aff8-610b469dbdf7",
   "metadata": {},
   "outputs": [
    {
     "name": "stdout",
     "output_type": "stream",
     "text": [
      "Location: [65:>1496](+)\n"
     ]
    }
   ],
   "source": [
    "for i in range(len(feat)):\n",
    "    if feat[i].type == \"CDS\":\n",
    "        featcds.append(i)\n",
    "for k in featcds:\n",
    "    print ('Location:',feat[k].location)"
   ]
  },
  {
   "cell_type": "markdown",
   "id": "d7ffe591-37fa-463b-ba58-bb3b2bece242",
   "metadata": {},
   "source": [
    "Qualifiers:"
   ]
  },
  {
   "cell_type": "code",
   "execution_count": 202,
   "id": "ead11359-4be7-42e1-a061-13364fc58501",
   "metadata": {},
   "outputs": [
    {
     "name": "stdout",
     "output_type": "stream",
     "text": [
      "Gene: ['PPARG']\n",
      "Gene ID: ['GeneID:5468']\n",
      "Start codons: ['1']\n",
      "Note: ['full-length ORF without stop codon']\n",
      "Product: ['PPARG']\n",
      "Protein ID: ['AKI70016.1']\n",
      "Translation: ['MTMVDTEMPFWPTNFGISSVDLSVMEDHSHSFDIKPFTTVDFSSISTPHYEDIPFTRTDPVVADYKYDLKLQEYQSAIKVEPASPPYYSEKTQLYNKPHEEPSNSLMAIECRVCGDKASGFHYGVHACEGCKGFFRRTIRLKLIYDRCDLNCRIHKKSRNKCQYCRFQKCLAVGMSHNAIRFGRMPQAEKEKLLAEISSDIDQLNPESADLRALAKHLYDSYIKSFPLTKAKARAILTGKTTDKSPFVIYDMNSLMMGEDKIKFKHITPLQEQSKEVAIRIFQGCQFRSVEAVQEITEYAKSIPGFVNLDLNDQVTLLKYGVHEIIYTMLASLMNKDGVLISEGQGFMTREFLKSLRKPFGDFMEPKFEFAVKFNALELDDSDLAIFIAVIILSGNRPGLLNVKPIEDIQDNLLQALELQLKLNHPESSQLFAKLLQKMTDLRQIVTEHVQLLQVIKKTETDMSLHPLLQEIYKDLY']\n"
     ]
    }
   ],
   "source": [
    "for k in featcds:\n",
    "    print ('Gene:',feat[k].qualifiers['gene'])\n",
    "    print ('Gene ID:',feat[k].qualifiers['db_xref'])\n",
    "    print ('Start codons:',feat[k].qualifiers['codon_start'])\n",
    "    print ('Note:',feat[k].qualifiers['note'])\n",
    "    print ('Product:',feat[k].qualifiers['product'])\n",
    "    print ('Protein ID:',feat[k].qualifiers['protein_id'])\n",
    "    print ('Translation:',feat[k].qualifiers['translation'])"
   ]
  },
  {
   "cell_type": "markdown",
   "id": "437eda9b-56e3-42b5-9ddb-dd9c02e5c976",
   "metadata": {},
   "source": [
    "Source"
   ]
  },
  {
   "cell_type": "code",
   "execution_count": 203,
   "id": "2b010928-422d-470c-a55b-5fb09663daba",
   "metadata": {},
   "outputs": [],
   "source": [
    "featsource = [ ]"
   ]
  },
  {
   "cell_type": "code",
   "execution_count": 204,
   "id": "2cddd255-20fc-4264-9ac2-2619b5c9ee91",
   "metadata": {},
   "outputs": [
    {
     "name": "stdout",
     "output_type": "stream",
     "text": [
      "Location: [0:1563](+)\n",
      "Location: [65:1496](+)\n"
     ]
    }
   ],
   "source": [
    "for i in range(len(feat)):\n",
    "    if feat[i].type == \"source\":\n",
    "        featsource.append(i)\n",
    "for k in featsource:\n",
    "    print ('Location:',feat[k].location)"
   ]
  },
  {
   "cell_type": "markdown",
   "id": "ec137055-2000-40f7-b860-6c8c38321ef7",
   "metadata": {},
   "source": [
    "Qualifiers:"
   ]
  },
  {
   "cell_type": "code",
   "execution_count": 205,
   "id": "fb52264e-4d57-41b8-8594-d4f460f5e24c",
   "metadata": {},
   "outputs": [
    {
     "name": "stdout",
     "output_type": "stream",
     "text": [
      "Organism: ['synthetic construct']\n",
      "Molecular type: ['other DNA']\n",
      "Taxonomy: ['taxon:32630']\n",
      "Organism: ['Homo sapiens']\n",
      "Molecular type: ['other DNA']\n",
      "Taxonomy: ['taxon:9606']\n"
     ]
    }
   ],
   "source": [
    "for k in featsource:\n",
    "    print ('Organism:',feat[k].qualifiers['organism'])\n",
    "    print ('Molecular type:',feat[k].qualifiers['mol_type'])\n",
    "    print ('Taxonomy:',feat[k].qualifiers['db_xref'])"
   ]
  },
  {
   "cell_type": "markdown",
   "id": "47930101-ef31-4927-804d-9ea2e7b643a3",
   "metadata": {},
   "source": [
    "Diferença da sequência original"
   ]
  },
  {
   "cell_type": "code",
   "execution_count": 189,
   "id": "68bc2517-6d2f-4d4c-bd59-995e9ae005f7",
   "metadata": {},
   "outputs": [],
   "source": [
    "featdif = []"
   ]
  },
  {
   "cell_type": "code",
   "execution_count": 190,
   "id": "219699ba-9941-41a8-9bca-15fca8926aed",
   "metadata": {},
   "outputs": [
    {
     "name": "stdout",
     "output_type": "stream",
     "text": [
      "Location: [0:1563](+)\n",
      "Location: [65:1496](+)\n"
     ]
    }
   ],
   "source": [
    "for i in range(len(feat)):\n",
    "    if feat[i].type == \"source\":\n",
    "        featdif.append(i)\n",
    "for k in featdif:\n",
    "    print ('Location:',feat[k].location)"
   ]
  },
  {
   "cell_type": "markdown",
   "id": "3f141a53-a30c-436a-94d0-1f467d1c34f5",
   "metadata": {},
   "source": [
    "Qualifiers:"
   ]
  },
  {
   "cell_type": "code",
   "execution_count": 191,
   "id": "69b9e64e-cd2d-41e0-af7f-67f4e6967c07",
   "metadata": {},
   "outputs": [
    {
     "name": "stdout",
     "output_type": "stream",
     "text": [
      "Organism: ['synthetic construct']\n",
      "Molecular type: ['other DNA']\n",
      "Taxonomy: ['taxon:32630']\n",
      "Organism: ['Homo sapiens']\n",
      "Molecular type: ['other DNA']\n",
      "Taxonomy: ['taxon:9606']\n"
     ]
    }
   ],
   "source": [
    "for k in featdif:\n",
    "    print ('Organism:',feat[k].qualifiers['organism'])\n",
    "    print ('Molecular type:',feat[k].qualifiers['mol_type'])\n",
    "    print ('Taxonomy:',feat[k].qualifiers['db_xref'])"
   ]
  },
  {
   "cell_type": "code",
   "execution_count": null,
   "id": "1a18ef76-5933-44c3-84be-bea90d23be64",
   "metadata": {},
   "outputs": [],
   "source": []
  }
 ],
 "metadata": {
  "kernelspec": {
   "display_name": "Python 3 (ipykernel)",
   "language": "python",
   "name": "python3"
  },
  "language_info": {
   "codemirror_mode": {
    "name": "ipython",
    "version": 3
   },
   "file_extension": ".py",
   "mimetype": "text/x-python",
   "name": "python",
   "nbconvert_exporter": "python",
   "pygments_lexer": "ipython3",
   "version": "3.9.7"
  }
 },
 "nbformat": 4,
 "nbformat_minor": 5
}
